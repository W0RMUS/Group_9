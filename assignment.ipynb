{
 "cells": [
  {
   "cell_type": "code",
   "execution_count": 33,
   "metadata": {
    "scrolled": false
   },
   "outputs": [],
   "source": [
    "\"\"\"\n",
    "- Tid brukt på hver tur (faktisk/Planlagt)\n",
    "- Antall turer på hver dag (Benjamin)\n",
    "- Antall turer på hver kommune (Henry)\n",
    "- Antall turer gjennom hver Holdeplass\n",
    "- Kapasitet utnyttet per tur (Markus)\n",
    "\"\"\"\n",
    "import pandas as panda\n",
    "import matplotlib\n",
    "from matplotlib import pyplot as plot\n",
    "\n",
    "dataframe = panda.read_csv(\"Ruter_data.csv\", delimiter=';')"
   ]
  },
  {
   "cell_type": "code",
   "execution_count": 38,
   "metadata": {
    "scrolled": false
   },
   "outputs": [
    {
     "data": {
      "text/html": [
       "<div>\n",
       "<style scoped>\n",
       "    .dataframe tbody tr th:only-of-type {\n",
       "        vertical-align: middle;\n",
       "    }\n",
       "\n",
       "    .dataframe tbody tr th {\n",
       "        vertical-align: top;\n",
       "    }\n",
       "\n",
       "    .dataframe thead th {\n",
       "        text-align: right;\n",
       "    }\n",
       "</style>\n",
       "<table border=\"1\" class=\"dataframe\">\n",
       "  <thead>\n",
       "    <tr style=\"text-align: right;\">\n",
       "      <th></th>\n",
       "      <th>TurId</th>\n",
       "      <th>Dato</th>\n",
       "      <th>Fylke</th>\n",
       "      <th>Område</th>\n",
       "      <th>Kommune</th>\n",
       "      <th>Holdeplass_Fra</th>\n",
       "      <th>Holdeplass_Til</th>\n",
       "      <th>Linjetype</th>\n",
       "      <th>Linjefylke</th>\n",
       "      <th>Linjenavn</th>\n",
       "      <th>Linjeretning</th>\n",
       "      <th>Tidspunkt_Faktisk_Ankomst_Holdeplass_Fra</th>\n",
       "      <th>Tidspunkt_Faktisk_Avgang_Holdeplass_Fra</th>\n",
       "      <th>Tidspunkt_Planlagt_Ankomst_Holdeplass_Fra</th>\n",
       "      <th>Tidspunkt_Planlagt_Avgang_Holdeplass_Fra</th>\n",
       "      <th>Kjøretøy_Kapasitet</th>\n",
       "      <th>Passasjerer_Ombord</th>\n",
       "    </tr>\n",
       "  </thead>\n",
       "  <tbody>\n",
       "    <tr>\n",
       "      <th>1549</th>\n",
       "      <td>26117-2020-07-15T17:50:00+02:00</td>\n",
       "      <td>15/07/2020</td>\n",
       "      <td>Viken</td>\n",
       "      <td>Vest</td>\n",
       "      <td>Asker</td>\n",
       "      <td>Apotekerstranda</td>\n",
       "      <td>Striglesand</td>\n",
       "      <td>Lokal</td>\n",
       "      <td>Viken</td>\n",
       "      <td>256</td>\n",
       "      <td>1</td>\n",
       "      <td>18:26:57</td>\n",
       "      <td>18:27:21</td>\n",
       "      <td>18:21:00</td>\n",
       "      <td>18:21:00</td>\n",
       "      <td>112</td>\n",
       "      <td>2</td>\n",
       "    </tr>\n",
       "  </tbody>\n",
       "</table>\n",
       "</div>"
      ],
      "text/plain": [
       "                                TurId        Dato  Fylke Område Kommune  \\\n",
       "1549  26117-2020-07-15T17:50:00+02:00  15/07/2020  Viken   Vest   Asker   \n",
       "\n",
       "       Holdeplass_Fra Holdeplass_Til Linjetype Linjefylke Linjenavn  \\\n",
       "1549  Apotekerstranda    Striglesand     Lokal      Viken       256   \n",
       "\n",
       "      Linjeretning Tidspunkt_Faktisk_Ankomst_Holdeplass_Fra  \\\n",
       "1549             1                                 18:26:57   \n",
       "\n",
       "     Tidspunkt_Faktisk_Avgang_Holdeplass_Fra  \\\n",
       "1549                                18:27:21   \n",
       "\n",
       "     Tidspunkt_Planlagt_Ankomst_Holdeplass_Fra  \\\n",
       "1549                                  18:21:00   \n",
       "\n",
       "     Tidspunkt_Planlagt_Avgang_Holdeplass_Fra  Kjøretøy_Kapasitet  \\\n",
       "1549                                 18:21:00                 112   \n",
       "\n",
       "      Passasjerer_Ombord  \n",
       "1549                   2  "
      ]
     },
     "execution_count": 38,
     "metadata": {},
     "output_type": "execute_result"
    }
   ],
   "source": [
    "#Eksempel fra datasettet for visualisering\n",
    "dataframe.sample(1)"
   ]
  },
  {
   "cell_type": "code",
   "execution_count": null,
   "metadata": {},
   "outputs": [
    {
     "data": {
      "text/plain": [
       "Text(0.5, 1.0, 'Kapasitet utnyttet per tur')"
      ]
     },
     "execution_count": 39,
     "metadata": {},
     "output_type": "execute_result"
    }
   ],
   "source": [
    "#Oppretter liste for prosentverdier med kapasitet utnyttet per tur\n",
    "kapasitetUtnyttet = []\n",
    "\n",
    "#Legger verdiene inn i listen og gjør om til prosent\n",
    "for x in dataframe:\n",
    "    kapasitetUtnyttet.append((dataframe.Passasjerer_Ombord / dataframe.Kjøretøy_Kapasitet) * 100)    \n",
    "    \n",
    "#Tegner Plot som viser hvor mye av kapasiteten som har blitt utnyttet på turene \n",
    "fig, ax = plot.subplots(figsize = (20, 10))\n",
    "plot.hist(kapasitetUtnyttet, bins = 100)\n",
    "plot.ylabel(\"Antall turer\")\n",
    "plot.xlabel(\"Kapasitet utnyttet i prosent\")\n",
    "plot.title(\"Kapasitet utnyttet per tur\")"
   ]
  },
  {
   "cell_type": "code",
   "execution_count": null,
   "metadata": {},
   "outputs": [],
   "source": []
  },
  {
   "cell_type": "code",
   "execution_count": null,
   "metadata": {},
   "outputs": [],
   "source": []
  }
 ],
 "metadata": {
  "kernelspec": {
   "display_name": "Python 3",
   "language": "python",
   "name": "python3"
  },
  "language_info": {
   "codemirror_mode": {
    "name": "ipython",
    "version": 3
   },
   "file_extension": ".py",
   "mimetype": "text/x-python",
   "name": "python",
   "nbconvert_exporter": "python",
   "pygments_lexer": "ipython3",
   "version": "3.8.3"
  }
 },
 "nbformat": 4,
 "nbformat_minor": 4
}
