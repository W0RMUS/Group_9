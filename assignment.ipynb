{
 "cells": [
  {
   "cell_type": "code",
   "execution_count": 17,
   "metadata": {
    "scrolled": false
   },
   "outputs": [
    {
     "data": {
      "text/plain": [
       "(array([[7.000e+00, 3.600e+01, 6.160e+02, 4.519e+03, 6.800e+02, 6.600e+01,\n",
       "         1.900e+01, 4.000e+00, 2.000e+00, 2.000e+00],\n",
       "        [7.000e+00, 3.600e+01, 6.160e+02, 4.519e+03, 6.800e+02, 6.600e+01,\n",
       "         1.900e+01, 4.000e+00, 2.000e+00, 2.000e+00],\n",
       "        [7.000e+00, 3.600e+01, 6.160e+02, 4.519e+03, 6.800e+02, 6.600e+01,\n",
       "         1.900e+01, 4.000e+00, 2.000e+00, 2.000e+00],\n",
       "        [7.000e+00, 3.600e+01, 6.160e+02, 4.519e+03, 6.800e+02, 6.600e+01,\n",
       "         1.900e+01, 4.000e+00, 2.000e+00, 2.000e+00],\n",
       "        [7.000e+00, 3.600e+01, 6.160e+02, 4.519e+03, 6.800e+02, 6.600e+01,\n",
       "         1.900e+01, 4.000e+00, 2.000e+00, 2.000e+00],\n",
       "        [7.000e+00, 3.600e+01, 6.160e+02, 4.519e+03, 6.800e+02, 6.600e+01,\n",
       "         1.900e+01, 4.000e+00, 2.000e+00, 2.000e+00],\n",
       "        [7.000e+00, 3.600e+01, 6.160e+02, 4.519e+03, 6.800e+02, 6.600e+01,\n",
       "         1.900e+01, 4.000e+00, 2.000e+00, 2.000e+00],\n",
       "        [7.000e+00, 3.600e+01, 6.160e+02, 4.519e+03, 6.800e+02, 6.600e+01,\n",
       "         1.900e+01, 4.000e+00, 2.000e+00, 2.000e+00],\n",
       "        [7.000e+00, 3.600e+01, 6.160e+02, 4.519e+03, 6.800e+02, 6.600e+01,\n",
       "         1.900e+01, 4.000e+00, 2.000e+00, 2.000e+00],\n",
       "        [7.000e+00, 3.600e+01, 6.160e+02, 4.519e+03, 6.800e+02, 6.600e+01,\n",
       "         1.900e+01, 4.000e+00, 2.000e+00, 2.000e+00],\n",
       "        [7.000e+00, 3.600e+01, 6.160e+02, 4.519e+03, 6.800e+02, 6.600e+01,\n",
       "         1.900e+01, 4.000e+00, 2.000e+00, 2.000e+00],\n",
       "        [7.000e+00, 3.600e+01, 6.160e+02, 4.519e+03, 6.800e+02, 6.600e+01,\n",
       "         1.900e+01, 4.000e+00, 2.000e+00, 2.000e+00],\n",
       "        [7.000e+00, 3.600e+01, 6.160e+02, 4.519e+03, 6.800e+02, 6.600e+01,\n",
       "         1.900e+01, 4.000e+00, 2.000e+00, 2.000e+00],\n",
       "        [7.000e+00, 3.600e+01, 6.160e+02, 4.519e+03, 6.800e+02, 6.600e+01,\n",
       "         1.900e+01, 4.000e+00, 2.000e+00, 2.000e+00],\n",
       "        [7.000e+00, 3.600e+01, 6.160e+02, 4.519e+03, 6.800e+02, 6.600e+01,\n",
       "         1.900e+01, 4.000e+00, 2.000e+00, 2.000e+00],\n",
       "        [7.000e+00, 3.600e+01, 6.160e+02, 4.519e+03, 6.800e+02, 6.600e+01,\n",
       "         1.900e+01, 4.000e+00, 2.000e+00, 2.000e+00],\n",
       "        [7.000e+00, 3.600e+01, 6.160e+02, 4.519e+03, 6.800e+02, 6.600e+01,\n",
       "         1.900e+01, 4.000e+00, 2.000e+00, 2.000e+00]]),\n",
       " array([-0.34821429, -0.23339286, -0.11857143, -0.00375   ,  0.11107143,\n",
       "         0.22589286,  0.34071429,  0.45553571,  0.57035714,  0.68517857,\n",
       "         0.8       ]),\n",
       " <a list of 17 Lists of Patches objects>)"
      ]
     },
     "execution_count": 17,
     "metadata": {},
     "output_type": "execute_result"
    },
    {
     "data": {
      "image/png": "[encoded data removed]",
      "text/plain": [
       "<Figure size 432x288 with 1 Axes>"
      ]
     },
     "metadata": {
      "needs_background": "light"
     },
     "output_type": "display_data"
    }
   ],
   "source": [
    "\"\"\"\n",
    "- Tidsbrukt på hver tur (faktisk/Planlagt)\n",
    "- Kapasitet på hver tur (faktisk/Planlagt)\n",
    "- Antall tur på hver dag (Benjamin)\n",
    "- Antall tur på hver kommune\n",
    "- Antall tur går gjennom hver Holderplass\n",
    "- Kapasitet utnyttet per tur (Markus)\n",
    "\"\"\"\n",
    "\n",
    "import pandas as panda\n",
    "import matplotlib\n",
    "from matplotlib import pyplot as plot\n",
    "\n",
    "dataframe = panda.read_csv(\"Ruter_data2.csv\", delimiter=';')\n",
    "dataframe_raw = dataframe.copy() #Lagrer originalen i tilfelle\n",
    "\n",
    "#dataframe.head()\n",
    "\n",
    "kapasitetUtnyttet = []\n",
    "for x in dataframe:\n",
    "    kapasitetUtnyttet.append(dataframe.Passasjerer_Ombord / dataframe.Kjøretøy_Kapasitet)    \n",
    "    \n",
    "plot.hist(kapasitetUtnyttet)"
   ]
  },
  {
   "cell_type": "code",
   "execution_count": null,
   "metadata": {
    "scrolled": false
   },
   "outputs": [],
   "source": []
  },
  {
   "cell_type": "code",
   "execution_count": null,
   "metadata": {},
   "outputs": [],
   "source": []
  },
  {
   "cell_type": "code",
   "execution_count": null,
   "metadata": {},
   "outputs": [],
   "source": []
  }
 ],
 "metadata": {
  "kernelspec": {
   "display_name": "Python 3",
   "language": "python",
   "name": "python3"
  },
  "language_info": {
   "codemirror_mode": {
    "name": "ipython",
    "version": 3
   },
   "file_extension": ".py",
   "mimetype": "text/x-python",
   "name": "python",
   "nbconvert_exporter": "python",
   "pygments_lexer": "ipython3",
   "version": "3.8.3"
  }
 },
 "nbformat": 4,
 "nbformat_minor": 4
}
