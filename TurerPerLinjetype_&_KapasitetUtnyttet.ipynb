{
 "cells": [
  {
   "cell_type": "code",
   "execution_count": 33,
   "metadata": {
    "scrolled": false
   },
   "outputs": [],
   "source": [
    "\"\"\"\n",
    "- Tid brukt på hver tur (faktisk/Planlagt)\n",
    "- Antall turer på hver dag (Benjamin)\n",
    "- Antall turer på hver kommune (Henry)\n",
    "- Antall turer per linjetype (Markus)\n",
    "- Kapasitet utnyttet per tur (Markus)\n",
    "\"\"\"\n",
    "import pandas as panda\n",
    "import matplotlib\n",
    "from matplotlib import pyplot as plot\n",
    "\n",
    "dataframe = panda.read_csv(\"Ruter_data.csv\", delimiter=';')"
   ]
  },
  {
   "cell_type": "code",
   "execution_count": 77,
   "metadata": {
    "scrolled": false
   },
   "outputs": [
    {
     "data": {
      "text/html": [
       "<div>\n",
       "<style scoped>\n",
       "    .dataframe tbody tr th:only-of-type {\n",
       "        vertical-align: middle;\n",
       "    }\n",
       "\n",
       "    .dataframe tbody tr th {\n",
       "        vertical-align: top;\n",
       "    }\n",
       "\n",
       "    .dataframe thead th {\n",
       "        text-align: right;\n",
       "    }\n",
       "</style>\n",
       "<table border=\"1\" class=\"dataframe\">\n",
       "  <thead>\n",
       "    <tr style=\"text-align: right;\">\n",
       "      <th></th>\n",
       "      <th>TurId</th>\n",
       "      <th>Dato</th>\n",
       "      <th>Fylke</th>\n",
       "      <th>Område</th>\n",
       "      <th>Kommune</th>\n",
       "      <th>Holdeplass_Fra</th>\n",
       "      <th>Holdeplass_Til</th>\n",
       "      <th>Linjetype</th>\n",
       "      <th>Linjefylke</th>\n",
       "      <th>Linjenavn</th>\n",
       "      <th>Linjeretning</th>\n",
       "      <th>Tidspunkt_Faktisk_Ankomst_Holdeplass_Fra</th>\n",
       "      <th>Tidspunkt_Faktisk_Avgang_Holdeplass_Fra</th>\n",
       "      <th>Tidspunkt_Planlagt_Ankomst_Holdeplass_Fra</th>\n",
       "      <th>Tidspunkt_Planlagt_Avgang_Holdeplass_Fra</th>\n",
       "      <th>Kjøretøy_Kapasitet</th>\n",
       "      <th>Passasjerer_Ombord</th>\n",
       "    </tr>\n",
       "  </thead>\n",
       "  <tbody>\n",
       "    <tr>\n",
       "      <th>4349</th>\n",
       "      <td>30016-2020-08-23T22:08:00+02:00</td>\n",
       "      <td>23/08/2020</td>\n",
       "      <td>Viken</td>\n",
       "      <td>Nordøst</td>\n",
       "      <td>Lillestrøm</td>\n",
       "      <td>Jonas Lies gate</td>\n",
       "      <td>Lillestrøm bussterminal (Plattform 18)</td>\n",
       "      <td>Lokal</td>\n",
       "      <td>Viken</td>\n",
       "      <td>110</td>\n",
       "      <td>1</td>\n",
       "      <td>22:57:25</td>\n",
       "      <td>22:57:30</td>\n",
       "      <td>22:57:00</td>\n",
       "      <td>22:57:00</td>\n",
       "      <td>106</td>\n",
       "      <td>2</td>\n",
       "    </tr>\n",
       "  </tbody>\n",
       "</table>\n",
       "</div>"
      ],
      "text/plain": [
       "                                TurId        Dato  Fylke   Område     Kommune  \\\n",
       "4349  30016-2020-08-23T22:08:00+02:00  23/08/2020  Viken  Nordøst  Lillestrøm   \n",
       "\n",
       "       Holdeplass_Fra                          Holdeplass_Til Linjetype  \\\n",
       "4349  Jonas Lies gate  Lillestrøm bussterminal (Plattform 18)     Lokal   \n",
       "\n",
       "     Linjefylke Linjenavn  Linjeretning  \\\n",
       "4349      Viken       110             1   \n",
       "\n",
       "     Tidspunkt_Faktisk_Ankomst_Holdeplass_Fra  \\\n",
       "4349                                 22:57:25   \n",
       "\n",
       "     Tidspunkt_Faktisk_Avgang_Holdeplass_Fra  \\\n",
       "4349                                22:57:30   \n",
       "\n",
       "     Tidspunkt_Planlagt_Ankomst_Holdeplass_Fra  \\\n",
       "4349                                  22:57:00   \n",
       "\n",
       "     Tidspunkt_Planlagt_Avgang_Holdeplass_Fra  Kjøretøy_Kapasitet  \\\n",
       "4349                                 22:57:00                 106   \n",
       "\n",
       "      Passasjerer_Ombord  \n",
       "4349                   2  "
      ]
     },
     "execution_count": 77,
     "metadata": {},
     "output_type": "execute_result"
    }
   ],
   "source": [
    "#Eksempel fra datasettet for visualisering\n",
    "dataframe.sample(1)"
   ]
  },
  {
   "cell_type": "code",
   "execution_count": 39,
   "metadata": {
    "scrolled": false
   },
   "outputs": [
    {
     "data": {
      "text/plain": [
       "Text(0.5, 1.0, 'Kapasitet utnyttet per tur')"
      ]
     },
     "execution_count": 39,
     "metadata": {},
     "output_type": "execute_result"
    },
    {
     "data": {
      "image/png": "[encoded data removed]",
      "text/plain": [
       "<Figure size 1440x720 with 1 Axes>"
      ]
     },
     "metadata": {
      "needs_background": "light"
     },
     "output_type": "display_data"
    }
   ],
   "source": [
    "#Oppretter liste for prosentverdier med kapasitet utnyttet per tur\n",
    "kapasitetUtnyttet = []\n",
    "\n",
    "#Legger verdiene inn i listen og gjør om til prosent\n",
    "for x in dataframe:\n",
    "    kapasitetUtnyttet.append((dataframe.Passasjerer_Ombord / dataframe.Kjøretøy_Kapasitet) * 100)    \n",
    "    \n",
    "#Tegner Plot som viser hvor mye av kapasiteten som har blitt utnyttet på turene \n",
    "fig, ax = plot.subplots(figsize = (20, 10))\n",
    "plot.hist(kapasitetUtnyttet, bins = 100)\n",
    "plot.ylabel(\"Antall turer\")\n",
    "plot.xlabel(\"Kapasitet utnyttet i prosent\")\n",
    "plot.title(\"Kapasitet utnyttet per tur\")"
   ]
  },
  {
   "cell_type": "code",
   "execution_count": null,
   "metadata": {
    "scrolled": true
   },
   "outputs": [],
   "source": [
    "#Antall turer per linjetype\n",
    "ekspressTurer = dataframe[dataframe.Linjetype == \"Ekspress\"]\n",
    "lokaleTurer = dataframe[dataframe.Linjetype == \"Lokal\"]\n",
    "skoleTurer = dataframe[dataframe.Linjetype == \"Skole\"]\n",
    "nattTurer = dataframe[dataframe.Linjetype == \"Natt\"]"
   ]
  },
  {
   "cell_type": "code",
   "execution_count": 94,
   "metadata": {},
   "outputs": [],
   "source": [
    "#Sjekker antall elementer av typen ekspress\n",
    "ekspressTurer.shape"
   ]
  },
  {
   "cell_type": "code",
   "execution_count": 86,
   "metadata": {},
   "outputs": [
    {
     "data": {
      "text/plain": [
       "(193, 17)"
      ]
     },
     "execution_count": 86,
     "metadata": {},
     "output_type": "execute_result"
    }
   ],
   "source": [
    "#Sjekker antall elementer av typen lokal\n",
    "lokaleTurer.shape"
   ]
  },
  {
   "cell_type": "code",
   "execution_count": 87,
   "metadata": {},
   "outputs": [
    {
     "data": {
      "text/plain": [
       "(5741, 17)"
      ]
     },
     "execution_count": 87,
     "metadata": {},
     "output_type": "execute_result"
    }
   ],
   "source": [
    "#Sjekker antall elementer av typen skole\n",
    "skoleTurer.shape"
   ]
  },
  {
   "cell_type": "code",
   "execution_count": 91,
   "metadata": {},
   "outputs": [
    {
     "data": {
      "text/plain": [
       "(63, 17)"
      ]
     },
     "execution_count": 91,
     "metadata": {},
     "output_type": "execute_result"
    }
   ],
   "source": [
    "#Sjekker antall elementer av typen natt\n",
    "nattTurer.shape"
   ]
  },
  {
   "cell_type": "code",
   "execution_count": 97,
   "metadata": {},
   "outputs": [
    {
     "data": {
      "text/plain": [
       "(array([5.741e+03, 0.000e+00, 0.000e+00, 6.300e+01, 0.000e+00, 0.000e+00,\n",
       "        1.930e+02, 0.000e+00, 0.000e+00, 3.000e+00]),\n",
       " array([0. , 0.3, 0.6, 0.9, 1.2, 1.5, 1.8, 2.1, 2.4, 2.7, 3. ]),\n",
       " <a list of 10 Patch objects>)"
      ]
     },
     "execution_count": 97,
     "metadata": {},
     "output_type": "execute_result"
    },
    {
     "data": {
      "image/png": "[encoded data removed]",
      "text/plain": [
       "<Figure size 432x288 with 1 Axes>"
      ]
     },
     "metadata": {
      "needs_background": "light"
     },
     "output_type": "display_data"
    }
   ],
   "source": [
    "#Vi ser at det er 193 ekspressturer, 5741 lokale turer, 63 skoleturer og 3 natturer, hvilket samsvarer med plottet.\n",
    "plot.hist(dataframe.Linjetype)"
   ]
  },
  {
   "cell_type": "code",
   "execution_count": null,
   "metadata": {},
   "outputs": [],
   "source": []
  },
  {
   "cell_type": "code",
   "execution_count": null,
   "metadata": {},
   "outputs": [],
   "source": []
  }
 ],
 "metadata": {
  "kernelspec": {
   "display_name": "Python 3",
   "language": "python",
   "name": "python3"
  },
  "language_info": {
   "codemirror_mode": {
    "name": "ipython",
    "version": 3
   },
   "file_extension": ".py",
   "mimetype": "text/x-python",
   "name": "python",
   "nbconvert_exporter": "python",
   "pygments_lexer": "ipython3",
   "version": "3.8.3"
  }
 },
 "nbformat": 4,
 "nbformat_minor": 4
}
